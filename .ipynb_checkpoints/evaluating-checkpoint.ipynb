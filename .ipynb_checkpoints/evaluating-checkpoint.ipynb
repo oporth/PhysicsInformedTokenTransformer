{
 "cells": [
  {
   "cell_type": "code",
   "execution_count": 1,
   "id": "af2e145b-74aa-4f0c-8724-82dc0f96c36d",
   "metadata": {},
   "outputs": [
    {
     "ename": "ModuleNotFoundError",
     "evalue": "No module named 'torch'",
     "output_type": "error",
     "traceback": [
      "\u001b[0;31m---------------------------------------------------------------------------\u001b[0m",
      "\u001b[0;31mModuleNotFoundError\u001b[0m                       Traceback (most recent call last)",
      "\u001b[0;32m<ipython-input-1-8cf9fc805deb>\u001b[0m in \u001b[0;36m<module>\u001b[0;34m\u001b[0m\n\u001b[0;32m----> 1\u001b[0;31m \u001b[0;32mimport\u001b[0m \u001b[0mtorch\u001b[0m\u001b[0;34m\u001b[0m\u001b[0;34m\u001b[0m\u001b[0m\n\u001b[0m\u001b[1;32m      2\u001b[0m \u001b[0;32mimport\u001b[0m \u001b[0mtorch\u001b[0m\u001b[0;34m.\u001b[0m\u001b[0mnn\u001b[0m \u001b[0;32mas\u001b[0m \u001b[0mnn\u001b[0m\u001b[0;34m\u001b[0m\u001b[0;34m\u001b[0m\u001b[0m\n\u001b[1;32m      3\u001b[0m \u001b[0;32mimport\u001b[0m \u001b[0myaml\u001b[0m\u001b[0;34m\u001b[0m\u001b[0;34m\u001b[0m\u001b[0m\n\u001b[1;32m      4\u001b[0m \u001b[0;32mimport\u001b[0m \u001b[0mh5py\u001b[0m\u001b[0;34m\u001b[0m\u001b[0;34m\u001b[0m\u001b[0m\n\u001b[1;32m      5\u001b[0m \u001b[0;32mfrom\u001b[0m \u001b[0mutils\u001b[0m \u001b[0;32mimport\u001b[0m \u001b[0mTransformerOperatorDataset\u001b[0m\u001b[0;34m\u001b[0m\u001b[0;34m\u001b[0m\u001b[0m\n",
      "\u001b[0;31mModuleNotFoundError\u001b[0m: No module named 'torch'"
     ]
    }
   ],
   "source": [
    "import torch\n",
    "import torch.nn as nn\n",
    "import yaml\n",
    "import h5py\n",
    "from utils import TransformerOperatorDataset\n",
    "import torch.nn.functional as F\n",
    "from tqdm import tqdm\n",
    "import math\n",
    "import time\n",
    "from matplotlib import pyplot as plt\n",
    "from mpl_toolkits.axes_grid1 import make_axes_locatable\n",
    "import numpy as np\n",
    "import os\n",
    "import shutil\n",
    "\n",
    "from models.pitt import PhysicsInformedTokenTransformer\n",
    "from models.pitt import StandardPhysicsInformedTokenTransformer\n",
    "\n",
    "from models.oformer import Encoder1D, STDecoder1D, OFormer1D, PointWiseDecoder1D\n",
    "from models.fno import FNO1d\n",
    "from models.deeponet import DeepONet1D\n",
    "\n",
    "import sys\n",
    "\n",
    "from train_pitt import evaluate, get_transformer, get_data, get_neural_operator"
   ]
  },
  {
   "cell_type": "code",
   "execution_count": null,
   "id": "28961471-d24b-4742-ab2b-80ac0941ecaa",
   "metadata": {},
   "outputs": [],
   "source": [
    "device = 'cuda' if(torch.cuda.is_available()) else 'cpu'"
   ]
  },
  {
   "cell_type": "code",
   "execution_count": null,
   "id": "58672391-b390-41f7-9a83-53a6a7d9ed1b",
   "metadata": {},
   "outputs": [],
   "source": [
    "with open(\"./configs/pitt_config.yaml\", 'r') as stream:\n",
    "    config = yaml.safe_load(stream)\n",
    "train_args = config['args']\n",
    "prefix = train_args['flnm'] + \"_\" + train_args['data_name'].split(\"_\")[0] + \"_\" + train_args['train_style'] + \"_\" + \\\n",
    "         train_args['embedding']\n",
    "train_args['prefix'] = prefix\n",
    "train_args['seed'] = 1"
   ]
  },
  {
   "cell_type": "code",
   "execution_count": null,
   "id": "e1858907-7bec-43fa-a701-8231034d7f16",
   "metadata": {},
   "outputs": [],
   "source": [
    "path = \"{}{}_{}_{}\".format(train_args['results_dir'], train_args['transformer'], train_args['neural_operator'], prefix)\n",
    "f = h5py.File(\"{}{}\".format(train_args['base_path'], train_args['data_name']), 'r')\n",
    "model_name = train_args['flnm'] + '_{}'.format(train_args['transformer']) + \"_{}.pt\".format(train_args['seed'])\n",
    "model_path = path + \"/\" + model_name"
   ]
  },
  {
   "cell_type": "code",
   "execution_count": null,
   "id": "83c31101-6a88-4006-aafd-67cf2cf6cb86",
   "metadata": {},
   "outputs": [],
   "source": [
    "train_loader, val_loader, test_loader = get_data(f, train_args)"
   ]
  },
  {
   "cell_type": "code",
   "execution_count": null,
   "id": "115ef1f5-5dec-4bd8-a432-bc6de1d2f4b1",
   "metadata": {},
   "outputs": [],
   "source": [
    "neural_operator = get_neural_operator(train_args['neural_operator'], train_args)\n",
    "transformer = get_transformer(train_args['transformer'], neural_operator, train_args)"
   ]
  },
  {
   "cell_type": "code",
   "execution_count": null,
   "id": "82261937-390e-4495-8e5c-de2ae48b66ee",
   "metadata": {},
   "outputs": [],
   "source": [
    "transformer.load_state_dict(torch.load(model_path)['model_state_dict'])"
   ]
  },
  {
   "cell_type": "code",
   "execution_count": null,
   "id": "534c0fe8-8b20-44d0-8f82-e5055f6336e7",
   "metadata": {},
   "outputs": [],
   "source": [
    "loss_fn = nn.L1Loss(reduction='mean')"
   ]
  },
  {
   "cell_type": "code",
   "execution_count": null,
   "id": "c495e087-8730-4170-a18b-42d0906285d6",
   "metadata": {},
   "outputs": [],
   "source": [
    "test_value = evaluate(test_loader, transformer, loss_fn)"
   ]
  },
  {
   "cell_type": "code",
   "execution_count": null,
   "id": "131c17f4-496d-4fd6-95c4-ff19984bc8bc",
   "metadata": {},
   "outputs": [],
   "source": [
    "test_value"
   ]
  },
  {
   "cell_type": "code",
   "execution_count": null,
   "id": "bcb4a64c-1697-4f5e-9276-c208af75a259",
   "metadata": {},
   "outputs": [],
   "source": [
    "(x0, y, grid, tokens, t) = list(test_loader)[1]"
   ]
  },
  {
   "cell_type": "code",
   "execution_count": null,
   "id": "8b3df99a-af7f-42eb-b5ee-8e5fceea04db",
   "metadata": {},
   "outputs": [],
   "source": [
    "grid.shape"
   ]
  },
  {
   "cell_type": "code",
   "execution_count": null,
   "id": "9177f8da-a8fa-4440-aaa5-c3bab80bdf86",
   "metadata": {},
   "outputs": [],
   "source": [
    "y_pred=transformer(grid.to(device=device), tokens.to(device=device), x0.to(device=device), t.to(device=device))"
   ]
  },
  {
   "cell_type": "code",
   "execution_count": null,
   "id": "7ee5410d-3cd5-46bf-b297-c0e8db203f8d",
   "metadata": {},
   "outputs": [],
   "source": [
    "ibatch=1\n",
    "fig=plt.figure(dpi=300)\n",
    "plt.plot((grid[ibatch,:]).cpu(),(y[ibatch,:,0]).cpu())\n",
    "plt.plot((grid[ibatch,:]).cpu(),((y_pred.detach()[ibatch,:])).cpu())\n",
    "plt.plot((grid[ibatch,:]).cpu(),((x0[ibatch,:,:]).transpose(0,1)).cpu(),'k--')"
   ]
  },
  {
   "cell_type": "code",
   "execution_count": null,
   "id": "bc1a4ab3-25ca-4d2d-bee8-40f38944dc39",
   "metadata": {},
   "outputs": [],
   "source": [
    "y = y[...,0].to(device=device)    \n",
    "# Compute the loss.\n",
    "loss_fn(y_pred, y).item()"
   ]
  }
 ],
 "metadata": {
  "kernelspec": {
   "display_name": "Python 3",
   "language": "python",
   "name": "python3"
  },
  "language_info": {
   "codemirror_mode": {
    "name": "ipython",
    "version": 3
   },
   "file_extension": ".py",
   "mimetype": "text/x-python",
   "name": "python",
   "nbconvert_exporter": "python",
   "pygments_lexer": "ipython3",
   "version": "3.8.8"
  }
 },
 "nbformat": 4,
 "nbformat_minor": 5
}
